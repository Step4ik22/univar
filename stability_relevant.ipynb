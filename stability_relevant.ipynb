{
 "cells": [
  {
   "cell_type": "code",
   "execution_count": 70,
   "metadata": {},
   "outputs": [],
   "source": [
    "# PSF\n",
    "from operator import mul as _opmul\n",
    "from functools import partial, reduce\n",
    "from itertools import product as _prod, combinations as _comb, combinations_with_replacement as _combu, starmap as _star\n",
    "from multiprocessing import Pool\n",
    "from timeit import timeit, default_timer as timer\n",
    "\n",
    "# Math\n",
    "import numpy as np\n",
    "import numpy.linalg as la\n",
    "from scipy.special import comb\n",
    "from scipy.linalg import blas\n",
    "\n",
    "# Plotting Packages\n",
    "import matplotlib.pyplot as plt\n",
    "\n",
    "# Widgets\n",
    "import ipywidgets as widgets\n",
    "\n",
    "import time"
   ]
  },
  {
   "cell_type": "code",
   "execution_count": 71,
   "metadata": {},
   "outputs": [],
   "source": [
    "def trace_layout(traces, moment):\n",
    "    tr_count, tr_len = len(traces), len(traces[0])\n",
    "    dtype=np.promote_types(np.result_type(traces[0][0]), 'i8')\n",
    "    trace_copy = np.empty((tr_count, 2 * moment * tr_len + 1), dtype=dtype)\n",
    "    trace_copy[:] = -1\n",
    "    trace_copy[:, 0] = 1\n",
    "    trace_copy_view = trace_copy[:, 1:].reshape(tr_count, 2 * moment, tr_len)\n",
    "    for i, tr in enumerate(traces):\n",
    "        trace_copy_view[i, 0] = tr\n",
    "    trace_copy = trace_copy.reshape(tr_count, 2 * moment * tr_len + 1)\n",
    "    LS, l = trace_copy.T.tolist(), tr_len\n",
    "    for j in range(1, 2 * moment):\n",
    "        for i in range(tr_len):\n",
    "            LS[1+(j)*l:1+(j+1)*l][i][:] = vmul(LS[1+0*l:1+1*l][i], LS[1+(j-1)*l:1+(j)*l][i])\n",
    "    return LS\n",
    "\n",
    "def c_layout(cls):\n",
    "    tr_count, cl_len = len(cls), len(cls[0])\n",
    "    dtype=np.promote_types(np.result_type(cls[0][0]), 'i8')\n",
    "    c_copy = np.empty((tr_count, cl_len + 1), dtype=dtype)\n",
    "    c_copy[:] = -1\n",
    "    c_copy[:, 0] = 1\n",
    "    c_copy_view = c_copy[:, 1:].reshape(tr_count, cl_len)\n",
    "    for i, tt in enumerate(cls):\n",
    "        c_copy_view[i] = tt\n",
    "    c_copy = c_copy.reshape(tr_count, cl_len + 1)\n",
    "    LS = c_copy.T.tolist()\n",
    "    return LS\n",
    "\n",
    "def trace_layout_np(traces, moment):\n",
    "    tr_count, tr_len = len(traces), len(traces[0])\n",
    "    dtype=np.promote_types(np.result_type(traces[0][0]), 'i8')\n",
    "    trace_copy = np.empty((tr_count, 2 * moment * tr_len + 1), dtype=dtype)\n",
    "    trace_copy[:] = -1\n",
    "    trace_copy[:, 0] = 1\n",
    "    trace_copy_view = trace_copy[:, 1:].reshape(tr_count, 2 * moment, tr_len)\n",
    "    for i, tr in enumerate(traces):\n",
    "        trace_copy_view[i, 0] = tr\n",
    "    trace_copy = trace_copy.reshape(tr_count, 2 * moment * tr_len + 1)\n",
    "    for j in range(1, 2 * moment):\n",
    "        np.multiply(trace_copy_view[:, 0, :], trace_copy_view[:, j - 1, :], trace_copy_view[:, j, :])\n",
    "    \n",
    "    return trace_copy\n",
    "\n",
    "    \n",
    "def c_layout_np(cls):\n",
    "    tr_count, cl_len = len(cls), len(cls[0])\n",
    "    dtype=np.promote_types(np.result_type(cls[0][0]), 'i8')\n",
    "    cls_copy = np.empty((tr_count, cl_len + 1), dtype=dtype)\n",
    "    cls_copy[:] = -1\n",
    "    cls_copy[:, 0] = 1\n",
    "    cls_copy_view = cls_copy[:, 1:].reshape(tr_count, cl_len)\n",
    "    for i, tt in enumerate(cls):\n",
    "        cls_copy_view[i] = tt\n",
    "    cls_copy = cls_copy.reshape(tr_count, cl_len + 1)\n",
    "    \n",
    "    return cls_copy"
   ]
  },
  {
   "cell_type": "code",
   "execution_count": 72,
   "metadata": {},
   "outputs": [],
   "source": [
    "\n",
    "\n",
    "def binom(N, k):\n",
    "    return comb(N, k, exact=True)\n",
    "\n",
    "def vmul(x, y):\n",
    "    \"\"\"Vectorized (sort-of) element-wise multiplication\"\"\"\n",
    "    return map(_opmul, x, y)\n",
    "\n",
    "def summul_gen():\n",
    "    _compose_star = lambda f, g: lambda *args: f(g(*args))\n",
    "    return reduce(_compose_star, (sum, partial(map, _opmul)))  # \"Vectorized\" dot-product\n",
    "\n",
    "summul = summul_gen()\n",
    "\n",
    "def mmuls(A, B):\n",
    "    \"\"\"Square matrix multiplication of A'*B\"\"\"\n",
    "    return [[summul(_b, _a) for _b in B] for _a in A]        # fastest 700x10, 20x10k)\n",
    "\n"
   ]
  },
  {
   "cell_type": "code",
   "execution_count": 73,
   "metadata": {},
   "outputs": [],
   "source": [
    "def _get_mom(row, tr_len, k):\n",
    "    \"\"\"Returns i-powered sums for each point in trace\"\"\"\n",
    "    return row[1 + (k - 1)*tr_len:][:tr_len]\n",
    "\n",
    "def sums2moms(bin, moment):\n",
    "    trace = True\n",
    "    tr_len = (len(bin[0]) - 1) // moment // 2\n",
    "    h_len = len(bin) - 1\n",
    "    N_T = bin[0][0]\n",
    "    CM = [[] for _ in range(h_len)]\n",
    "    for M, CMh in zip(bin[1:], CM):\n",
    "        N_1 = M[0]\n",
    "        N_0 = N_T - N_1\n",
    "        M0 = _get_mom(M, tr_len, 1)\n",
    "        for m in range(2 * moment, 0, -1):\n",
    "            if m==9: print(\"\\n moment #\", m, \"\\n\")\n",
    "            inv_N1 = 1.0 / (N_1 ** m)\n",
    "            mom_m = _get_mom(M, tr_len, m)\n",
    "            res1, res2, res3  = [[] for _ in range(tr_len)], [[] for _ in range(tr_len)], [[] for _ in range(tr_len)]\n",
    "            for i in range(0, tr_len):\n",
    "                for k in range(2, m):\n",
    "                    m_inner = M0[i] ** (m - k)\n",
    "                    mom_k = _get_mom(M, tr_len, k)\n",
    "                    elem0 = N_1 ** (k - 1) * (-1) ** (m - k) * binom(m, k) * mom_k[i] * m_inner\n",
    "                    res1[i].append(elem0)\n",
    "                    if m==9: print('\\t{:5.3e} {:+22.16e}, {:7}**{:2d} = {:+22.16e}, := {:+22.16e}'.format(N_1 ** (k - 1), mom_k[i], M0[i], (m - k), m_inner, elem0))\n",
    "                m_edge = M0[i] ** m\n",
    "                elem1 = (-1) ** (m - 1) * (m - 1) * m_edge\n",
    "                res2[i] = elem1\n",
    "                if m==9: print('\\n \\t{:2d} * [{:7}**{:2d} = {:+22.16e}], := {:+22.16e}'.format(m - 1, M0[i], m, m_edge, elem1))\n",
    "                res3[i] = sum(res1[i])              # Sum up products of intermediate degrees\n",
    "                if m==9: print(\"\\n Mixed products summed up:  \", ['{:+22.16e}'.format(r) for r in res3])\n",
    "                if m==9: print(\"------------------------------------------------------\")  \n",
    "                res = res2[i] + res3[i]\n",
    "                mom_m[i] *= N_1 ** (m - 1)\n",
    "                if m==9: print(\"Final int sum and inv_n:    \", '{:+22.16e}'.format(res+mom_m[i]), inv_N1)\n",
    "\n",
    "                mom_m[i] += res\n",
    "                mom_m[i] *= inv_N1  #int -> float\n",
    "                # print(type(mom_m[i]))\n",
    "                # if(stages_dt == 32):\n",
    "                #     mom_m[i] = np.float32(mom_m[i])\n",
    "                \n",
    "                CMh.insert(0, mom_m[i])\n",
    "            if m==9: print('=========================================================')\n",
    "    return CM"
   ]
  },
  {
   "cell_type": "code",
   "execution_count": 74,
   "metadata": {},
   "outputs": [],
   "source": [
    "\n",
    "def stages_fine(a, cls, moment):\n",
    "    stages_dt = 64\n",
    "    av = trace_layout(a.tolist(), moment)\n",
    "    cv = c_layout(cls.tolist())\n",
    "    bin_fine = mmuls(cv, av)\n",
    "    res_fine = sums2moms(bin_fine, moment)\n",
    "    return av, bin_fine, res_fine\n",
    "\n",
    "def stages_float_sums(a, cls, moment, stages_dt=None):\n",
    "    \n",
    "    af = trace_layout_np(a.astype(np.float64), moment)\n",
    "    cf = c_layout_np(cls.astype(np.float64))\n",
    "    bin_sums = np.dot(cf.T, af)\n",
    "        \n",
    "    res_float = sums2moms(bin_sums, moment)\n",
    "    return af.T, bin_sums, res_float\n",
    "\n",
    "def stages_float_detrend(a, cls, moment, stages_dt):\n",
    "    ap, base_sample = a, 10\n",
    "    am = np.mean(a[:base_sample], axis=0).astype(np.int32)\n",
    "    a = a - am\n",
    "\n",
    "    \n",
    "    \n",
    "    if stages_dt == 32:\n",
    "        adt = trace_layout_np(a.astype(np.float32), moment)\n",
    "        cf = c_layout_np(cls.astype(np.float32))\n",
    "        bin_sums = np.dot(cf.T, adt)\n",
    "        res_bin_dt = np.array(bin_sums).astype(np.float32)\n",
    "    else:\n",
    "        adt = trace_layout_np(a.astype(np.float64), moment)\n",
    "        cf = c_layout_np(cls.astype(np.float64))\n",
    "        bin_sums = np.dot(cf.T, adt)\n",
    "        res_bin_dt = bin_sums\n",
    "        \n",
    "    res_float_dt = sums2moms(res_bin_dt, moment)\n",
    "\n",
    "\n",
    "    res_float_dt = np.asarray(res_float_dt)\n",
    "    res_float_dt[:,0] += am\n",
    "    # print(\"stages_float_detrend\")\n",
    "    # print(\"a before: {}\".format(ap[:base_sample]))\n",
    "    # print(\"a mean:   {}\".format(am[:base_sample]))\n",
    "    # print(\"a after:  {}\".format(a[:base_sample]))\n",
    "    return adt, res_bin_dt, res_float_dt"
   ]
  },
  {
   "cell_type": "code",
   "execution_count": 75,
   "metadata": {},
   "outputs": [],
   "source": [
    "# def error_estimation(fine, real, moment):\n",
    "#     tr_len = len(fine[0]) // 2 // moment\n",
    "#     # Abs err\n",
    "#     abs_err = [[np.max(np.abs(_get_mom(fine[i], tr_len, m) - _get_mom(real[i], tr_len, m))) for m in range(2*moment)] for i in range len(fine[0])] \n",
    "#     # Rel err\n",
    "#     max_fine = np.max(np.abs(fine).astype(np.float64), axis=2)\n",
    "#     print(max_fine)\n",
    "#     return abs_err, abs_err / max_fine\n"
   ]
  },
  {
   "cell_type": "code",
   "execution_count": 76,
   "metadata": {},
   "outputs": [],
   "source": [
    "\n",
    "def error_estimation(fine, real):\n",
    "    \"\"\"m is unused\"\"\"\n",
    "    # Abs err\n",
    "    abs_err = np.abs(fine - real).astype(np.float64)\n",
    "    # Rel err\n",
    "    max_fine = np.empty(np.shape(fine[0]))\n",
    "    fine_t = fine.T\n",
    "    for i, row in enumerate(fine_t):\n",
    "        max_fine[i] = np.abs(np.amax(row))\n",
    "    rel_err = abs_err / max_fine\n",
    "    return abs_err, rel_err\n"
   ]
  },
  {
   "cell_type": "code",
   "execution_count": 77,
   "metadata": {},
   "outputs": [],
   "source": [
    "def plot_err(mom_rerr, acc_rerr, moment, tr_len, cl_len, cmap=None, vmin1=1e-16, vmin2=1e-16, vmax=0e-1, fnum=None):\n",
    "    fnum = fnum if fnum is not None else 0.0\n",
    "    cmap = cmap if cmap is not None else 'Reds'\n",
    "\n",
    "            \n",
    "    \n",
    "    fig1, axe1 = plt.subplots(1,1, figsize=(10, 5), tight_layout=True)\n",
    "    fig2, axe2 = plt.subplots(1,1, figsize=(10, 5), tight_layout=True)\n",
    "    im1 = axe1.imshow(acc_rerr, 'cividis', vmin=vmin1, vmax=vmax)\n",
    "    im2 = axe2.imshow(mom_rerr, cmap, vmin=vmin2, vmax=vmax)\n",
    "    axe1.set_title(\"Accumulator\")\n",
    "    axe2.set_title(\"Moments\")\n",
    "    \n",
    "    axe1.set_xticks(np.arange(-0.5, 2*moment*tr_len, tr_len))\n",
    "    axe1.set_yticks(np.arange(-0.5, cl_len, tr_len))\n",
    "    axe1.set_xticklabels([])\n",
    "    axe1.set_yticklabels([])\n",
    "    axe1.grid(linewidth=1, color='red')\n",
    "\n",
    "    axe2.set_xticks(np.arange(-0.5, 2*moment*tr_len, tr_len))\n",
    "    axe2.set_yticks(np.arange(-0.5, cl_len, tr_len))\n",
    "    axe2.set_xticklabels([])\n",
    "    axe2.set_yticklabels([])\n",
    "    axe2.grid(linewidth=1, color='red')\n",
    "\n",
    "    fig1.colorbar(im1)\n",
    "    fig2.colorbar(im2)\n",
    "\n",
    "def stage_err(a, cls, m, stages_func):\n",
    "    global_dt = 32\n",
    "    _, afine, sfine = stages_fine(a, cls, m)    # Arbitrary precise integers\n",
    "    _, afloat, sfloat = stages_func(a, cls, m, global_dt)   # double\n",
    "    sfine_np, sfloat_np = np.array(sfine), np.array(sfloat)\n",
    "    afine_np, afloat_np = np.array(afine), np.array(afloat)\n",
    "    afine_np, afloat_np = afine_np[1:,1:], afloat_np[1:,1:]\n",
    "    _, res_acc = error_estimation(afine_np, afloat_np)\n",
    "    _, res_mom = error_estimation(sfine_np, sfloat_np)\n",
    "    return res_acc, res_mom\n",
    "\n",
    "def error_interact_uniform(tr_cnt, param1, param2):\n",
    "    # Uniform distribution\n",
    "    tr_len, moment = 1, 4\n",
    "    cl_len = 4\n",
    "    lo, hi = param1, param2\n",
    "    a = np.random.randint(lo, hi, (tr_cnt, tr_len)).astype(dtype=np.int64)\n",
    "    cls = np.random.randint(0, 2, (tr_cnt, cl_len)).astype(dtype=np.int8)\n",
    "    rerr_acc, rerr_mom = stage_err(a, cls, moment, stages_float_sums)\n",
    "    plot_err_setup(tr_len, cl_len, rerr_mom, rerr_acc)\n",
    "\n",
    "def error_interact_gauss(tr_cnt, param1, param2):\n",
    "    # Gauss distribution\n",
    "    tr_len, moment = 1, 4\n",
    "    cl_len = 4\n",
    "    loc, scale = param1, param2\n",
    "    a = np.random.normal(loc, scale, (tr_cnt, tr_len)).astype(dtype=np.int64)\n",
    "    cls = np.random.randint(0, 2, (tr_cnt, cl_len)).astype(dtype=np.int8)\n",
    "    rerr_acc, rerr_mom = stage_err(a, cls, moment, stages_float_sums)\n",
    "    plot_err_setup(tr_len, cl_len, rerr_mom, rerr_acc)\n",
    "\n",
    "def error_interact_gauss_detrend(tr_cnt, param1, param2):\n",
    "    # Gauss with detrend\n",
    "    tr_len, moment = 1, 4\n",
    "    cl_len = 4\n",
    "    loc, scale = param1, param2\n",
    "    a = np.random.normal(loc, scale, (tr_cnt, tr_len)).astype(dtype=np.int64)\n",
    "    cls = np.random.randint(0, 2, (tr_cnt, cl_len)).astype(dtype=np.int8)\n",
    "    rerr_acc, rerr_mom = stage_err(a, cls, moment, stages_float_detrend)\n",
    "    plot_err_setup(tr_len, cl_len, rerr_mom, rerr_acc)\n",
    "\n",
    "def plot_err_setup(tr_len, cl_len, rerr_com_sum, rerr_acc):\n",
    "    pargs = { 'cmap' :'coolwarm','vmin1': -16, 'vmin2': -16, 'vmax' : 0, 'fnum' : -100 }\n",
    "    rerr_log = np.log10(rerr_com_sum + 1.0e-32)\n",
    "    rerr_acc_log = np.log10(rerr_acc + 1.0e-32)\n",
    "    plot_err(rerr_log, rerr_acc_log, moment, tr_len, cl_len, **pargs)"
   ]
  },
  {
   "cell_type": "markdown",
   "metadata": {},
   "source": [
    "# Main"
   ]
  },
  {
   "cell_type": "code",
   "execution_count": 78,
   "metadata": {},
   "outputs": [
    {
     "data": {
      "text/plain": [
       "1663236696"
      ]
     },
     "execution_count": 78,
     "metadata": {},
     "output_type": "execute_result"
    }
   ],
   "source": [
    "moment = 4  # All powers for E((x-a)^m*(y-b)^m)\n",
    "tr_cnt, tr_len = 5000, 1\n",
    "cl_len = 4\n",
    "global_dt = 32\n",
    "\n",
    "seedtime = int(time.time())\n",
    "np.random.seed(1020)\n",
    "\n",
    "# Normal distribution\n",
    "loc, scale = 10000, 1000  # Std less than 2% of mean leads to instability\n",
    "a = np.random.normal(loc, scale, (tr_cnt, tr_len)).astype(dtype=np.int64)\n",
    "cls = np.random.randint(0, 2, (tr_cnt, cl_len)).astype(dtype=np.int8)\n",
    "seedtime"
   ]
  },
  {
   "cell_type": "code",
   "execution_count": 79,
   "metadata": {
    "tags": []
   },
   "outputs": [],
   "source": [
    "# %%time\n",
    "layout_fine, sums_fine, com_fine = stages_fine(a, cls, moment)\n",
    "sums_fine_np = np.array(sums_fine)\n",
    "sums_fine_np = sums_fine_np[1:,1:]\n",
    "com_fine_np = np.array(com_fine)"
   ]
  },
  {
   "cell_type": "code",
   "execution_count": 80,
   "metadata": {
    "tags": []
   },
   "outputs": [],
   "source": [
    "# %%time\n",
    "layout_float, sums_float, com_float = stages_float_sums(a, cls, moment, 64)\n",
    "sums_float_np = np.array(sums_float)\n",
    "sums_float_np = sums_float_np[1:,1:]\n",
    "com_float_np = np.array(com_float)"
   ]
  },
  {
   "cell_type": "code",
   "execution_count": 81,
   "metadata": {},
   "outputs": [],
   "source": [
    "# %%time\n",
    "layout_float_off, sums_float_off, com_float_off = stages_float_detrend(a, cls, moment, global_dt)\n",
    "sums_float_off_np = np.array(sums_float_off)\n",
    "sums_float_off_np = sums_float_off_np[1:,1:]\n",
    "com_float_off_np = np.array(com_float_off)"
   ]
  },
  {
   "cell_type": "code",
   "execution_count": 82,
   "metadata": {},
   "outputs": [],
   "source": [
    "# print(sums_fine_np[1, 1:], \"\\n \\n\", sums_float_np[1, 1:])"
   ]
  },
  {
   "cell_type": "code",
   "execution_count": 83,
   "metadata": {
    "scrolled": false
   },
   "outputs": [
    {
     "name": "stdout",
     "output_type": "stream",
     "text": [
      "Non-off method rel errors\n"
     ]
    }
   ],
   "source": [
    "print(\"Non-off method rel errors\")\n",
    "_, rerr_com = error_estimation(com_fine_np, com_float_np)\n",
    "_, rerr_sum = error_estimation(sums_fine_np, sums_float_np)"
   ]
  },
  {
   "cell_type": "code",
   "execution_count": 84,
   "metadata": {},
   "outputs": [
    {
     "name": "stdout",
     "output_type": "stream",
     "text": [
      "Off-base method rel errors\n"
     ]
    }
   ],
   "source": [
    "\n",
    "print(\"Off-base method rel errors\")\n",
    "_, rerr_com_off = error_estimation(com_fine_np, com_float_off_np)\n",
    "_, rerr_sum_off = error_estimation(sums_fine_np, sums_float_off_np)"
   ]
  },
  {
   "cell_type": "markdown",
   "metadata": {},
   "source": [
    "# Log error visualization"
   ]
  },
  {
   "cell_type": "code",
   "execution_count": 85,
   "metadata": {},
   "outputs": [
    {
     "name": "stdout",
     "output_type": "stream",
     "text": [
      "-32.0 -6.120695504851203\n"
     ]
    },
    {
     "data": {
      "image/png": "[encoded data removed]",
      "text/plain": [
       "<Figure size 720x360 with 2 Axes>"
      ]
     },
     "metadata": {
      "needs_background": "light"
     },
     "output_type": "display_data"
    },
    {
     "data": {
      "image/png": "[encoded data removed]",
      "text/plain": [
       "<Figure size 720x360 with 2 Axes>"
      ]
     },
     "metadata": {
      "needs_background": "light"
     },
     "output_type": "display_data"
    }
   ],
   "source": [
    "# Straight-forward method\n",
    "rerr_com_log = np.log10(rerr_com + 1.0e-32)\n",
    "rerr_sum_log = np.log10(rerr_sum + 1.0e-32)\n",
    "print(np.min(rerr_com_log), np.max(rerr_com_log))\n",
    "plot_err(rerr_com_log, rerr_sum_log, moment, tr_len, cl_len, cmap='coolwarm',vmin1=-16, vmin2=-16, vmax=0, fnum=-100)"
   ]
  },
  {
   "cell_type": "code",
   "execution_count": 86,
   "metadata": {},
   "outputs": [
    {
     "name": "stdout",
     "output_type": "stream",
     "text": [
      "-9.576200210538678 inf\n"
     ]
    },
    {
     "data": {
      "image/png": "[encoded data removed]",
      "text/plain": [
       "<Figure size 720x360 with 2 Axes>"
      ]
     },
     "metadata": {
      "needs_background": "light"
     },
     "output_type": "display_data"
    },
    {
     "data": {
      "image/png": "[encoded data removed]",
      "text/plain": [
       "<Figure size 720x360 with 2 Axes>"
      ]
     },
     "metadata": {
      "needs_background": "light"
     },
     "output_type": "display_data"
    }
   ],
   "source": [
    "# Off-base approach\n",
    "rerr_com_off_log = np.log10(rerr_com_off + 1.0e-32)\n",
    "rerr_sum_off_log = np.log10(rerr_sum_off + 1.0e-32)\n",
    "print(np.min(rerr_com_off_log), np.max(rerr_com_off_log))\n",
    "plot_err(rerr_com_off_log, rerr_sum_off_log, moment, tr_len, cl_len, cmap='coolwarm',vmin1=-16, vmin2=-16, vmax=0, fnum=-100)\n"
   ]
  },
  {
   "cell_type": "markdown",
   "metadata": {},
   "source": [
    "# Interactive"
   ]
  },
  {
   "cell_type": "code",
   "execution_count": 87,
   "metadata": {},
   "outputs": [],
   "source": [
    "# Univariate distribution\n",
    "# dparams = [{'value': 10_000, 'min':100,     'max':100_000, 'step':1000, 'description':'Count'},\n",
    "#            {'value': 19_000, 'min':-30_000, 'max':40_000,  'step':20,   'description':'LBound'},\n",
    "#            {'value': 21_000, 'min':-30_000, 'max':40_000,  'step':20,   'description':'UBound'} ]\n",
    "# cnt_wdgt, p1_wdgt, p2_wdgt = [\n",
    "# widgets.IntSlider(**dparams[0], continuous_update=False, layout=widgets.Layout(width='750px')),\n",
    "# widgets.IntSlider(**dparams[1], continuous_update=False, layout=widgets.Layout(width='750px')),\n",
    "# widgets.IntSlider(**dparams[2], continuous_update=False, layout=widgets.Layout(width='750px'))] \n",
    "\n",
    "# widgets.interactive(error_interact_uniform, tr_cnt=cnt_wdgt, param1=p1_wdgt, param2=p2_wdgt)"
   ]
  },
  {
   "cell_type": "code",
   "execution_count": 88,
   "metadata": {},
   "outputs": [],
   "source": [
    "# Gaussian distribution\n",
    "# dparams = [{'value': 5000, 'min':0,   'max':600_000, 'step':1000, 'description':'Count'},\n",
    "#            {'value': 10000, 'min':0,   'max':30_000,  'step':100,  'description':'mean'},\n",
    "#            {'value': 1000,   'min':0,   'max':5_000,   'step':100,   'description':'std'} ]\n",
    "# cnt_wdgt, p1_wdgt, p2_wdgt = [\n",
    "# widgets.IntSlider(**dparams[0], continuous_update=False, layout=widgets.Layout(width='70%')),\n",
    "# widgets.IntSlider(**dparams[1], continuous_update=False, layout=widgets.Layout(width='70%')),\n",
    "# widgets.IntSlider(**dparams[2], continuous_update=False, layout=widgets.Layout(width='70%'))]\n",
    "\n",
    "# widgets.interactive(error_interact_gauss, tr_cnt=cnt_wdgt, param1=p1_wdgt, param2=p2_wdgt)"
   ]
  },
  {
   "cell_type": "code",
   "execution_count": 89,
   "metadata": {},
   "outputs": [
    {
     "data": {
      "application/vnd.jupyter.widget-view+json": {
       "model_id": "6d5dc27b2be34ef08bec8b4329bbc3ca",
       "version_major": 2,
       "version_minor": 0
      },
      "text/plain": [
       "interactive(children=(IntSlider(value=5000, continuous_update=False, description='Count', layout=Layout(width=…"
      ]
     },
     "metadata": {},
     "output_type": "display_data"
    }
   ],
   "source": [
    "# Gaussian distribution with detrend\n",
    "dparams = [{'value': 5000, 'min':0,   'max':600_000, 'step':1000, 'description':'Count'},\n",
    "           {'value': 128, 'min':0,   'max':30_000,  'step':100,  'description':'mean'},\n",
    "           {'value': 12,   'min':0,   'max':5_000,   'step':100,   'description':'std'} ]\n",
    "cnt_wdgt, p1_wdgt, p2_wdgt = [\n",
    "    widgets.IntSlider(**dparams[0], continuous_update=False, layout=widgets.Layout(width='70%')),\n",
    "    widgets.IntSlider(**dparams[1], continuous_update=False, layout=widgets.Layout(width='70%')),\n",
    "    widgets.IntSlider(**dparams[2], continuous_update=False, layout=widgets.Layout(width='70%'))]\n",
    "\n",
    "widgets.interactive(error_interact_gauss_detrend, tr_cnt=cnt_wdgt, param1=p1_wdgt, param2=p2_wdgt, stage=2)"
   ]
  },
  {
   "cell_type": "code",
   "execution_count": null,
   "metadata": {},
   "outputs": [],
   "source": []
  }
 ],
 "metadata": {
  "kernelspec": {
   "display_name": "Python 3.8.5 ('base')",
   "language": "python",
   "name": "python3"
  },
  "language_info": {
   "codemirror_mode": {
    "name": "ipython",
    "version": 3
   },
   "file_extension": ".py",
   "mimetype": "text/x-python",
   "name": "python",
   "nbconvert_exporter": "python",
   "pygments_lexer": "ipython3",
   "version": "3.9.12"
  },
  "orig_nbformat": 4,
  "vscode": {
   "interpreter": {
    "hash": "edf0e7a76cc649e165511ca8e35b8afd46fed1e988eb2b2eb96b78448c885fbc"
   }
  }
 },
 "nbformat": 4,
 "nbformat_minor": 2
}
